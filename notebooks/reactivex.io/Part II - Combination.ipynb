{
 "cells": [
  {
   "cell_type": "code",
   "execution_count": 1,
   "metadata": {},
   "outputs": [],
   "source": [
    "%run startup.py"
   ]
  },
  {
   "cell_type": "code",
   "execution_count": 2,
   "metadata": {},
   "outputs": [
    {
     "data": {
      "application/javascript": [
       "$.getScript('./assets/js/ipython_notebook_toc.js')\n"
      ],
      "text/plain": [
       "<IPython.core.display.Javascript object>"
      ]
     },
     "metadata": {},
     "output_type": "display_data"
    }
   ],
   "source": [
    "%%javascript\n",
    "$.getScript('./assets/js/ipython_notebook_toc.js')"
   ]
  },
  {
   "cell_type": "markdown",
   "metadata": {},
   "source": [
    "# A Decision Tree of Observable Operators\n",
    "\n",
    "## Part 2: Combining Observables\n",
    "\n",
    "> source: http://reactivex.io/documentation/operators.html#tree.  \n",
    "> (transcribed to RxPY 1.5.7, Py2.7 / 2016-12, Gunther Klessinger, [axiros](http://www.axiros.com))  \n",
    "\n",
    "**This tree can help you find the ReactiveX Observable operator you’re looking for.**  \n",
    "See [Part 1](./A Decision Tree of Observable Operators. Part I - Creation.ipynb) for Usage and Output Instructions.  \n",
    "We also require acquaintance with the [marble diagrams](./Marble Diagrams.ipynb) feature of RxPy.\n",
    "\n",
    "[This](http://www.introtorx.com/Content/v1.0.10621.0/12_CombiningSequences.html) is a helpful accompanying read.  \n",
    "<h2 id=\"tocheading\">Table of Contents</h2>\n",
    "<div id=\"toc\"></div>\n",
    "\n"
   ]
  },
  {
   "cell_type": "markdown",
   "metadata": {},
   "source": [
    "# I want to create an Observable by **combining** other Observables"
   ]
  },
  {
   "cell_type": "markdown",
   "metadata": {},
   "source": [
    "## ... and emitting all of the items from all of the Observables in whatever order they are received: **[merge / merge_all](http://reactivex.io/documentation/operators/merge.html) **"
   ]
  },
  {
   "cell_type": "code",
   "execution_count": 7,
   "metadata": {},
   "outputs": [
    {
     "name": "stdout",
     "output_type": "stream",
     "text": [
      "\n",
      "\n",
      "========== merge ==========\n",
      "\n",
      "module reactivex.operators\n",
      "def merge(\n",
      "    *sources: Observable[Any], max_concurrent: Optional[int] = None\n",
      "):\n",
      "    Merges an observable sequence of observable sequences into an\n",
      "    observable sequence, limiting the number of concurrent\n",
      "    subscriptions to inner sequences. Or merges two observable\n",
      "    sequences into a single observable sequence.\n",
      "\n",
      "    .. marble::\n",
      "        :alt: merge\n",
      "\n",
      "        ---1---2---3---4-|\n",
      "        -a---b---c---d--|\n",
      "        [     merge()      ]\n",
      "        -a-1-b-2-c-3-d-4-|\n",
      "\n",
      "    Examples:\n",
      "        >>> op = merge(max_concurrent=1)\n",
      "        >>> op = merge(other_source)\n",
      "\n",
      "    Args:\n",
      "        max_concurrent: [Optional] Maximum number of inner observable\n",
      "            sequences being subscribed to concurrently or the second\n",
      "            observable sequence.\n",
      "\n",
      "    Returns:\n",
      "        An operator function that takes an observable source and\n",
      "        returns the observable sequence that merges the elements of the\n",
      "        inner sequences.\n",
      "--------------------------------------------------------------------------------\n",
      "\n",
      "   1.7     M New subscription (14794) on stream 302268275\n",
      "   2.1     M [err ]    0.4: excepting_f() takes 1 positional argument but 2 were given -> 14794\n"
     ]
    },
    {
     "ename": "NameError",
     "evalue": "name 'new_thread_scheduler' is not defined",
     "output_type": "error",
     "traceback": [
      "\u001b[0;31m---------------------------------------------------------------------------\u001b[0m",
      "\u001b[0;31mNameError\u001b[0m                                 Traceback (most recent call last)",
      "Input \u001b[0;32mIn [7]\u001b[0m, in \u001b[0;36m<cell line: 14>\u001b[0;34m()\u001b[0m\n\u001b[1;32m     12\u001b[0m d \u001b[38;5;241m=\u001b[39m subs(stream1\u001b[38;5;241m.\u001b[39mpipe(ops\u001b[38;5;241m.\u001b[39mmerge(stream2)))\n\u001b[1;32m     13\u001b[0m l \u001b[38;5;241m=\u001b[39m []\n\u001b[0;32m---> 14\u001b[0m d \u001b[38;5;241m=\u001b[39m subs(ops\u001b[38;5;241m.\u001b[39mmerge(\u001b[43mnew_thread_scheduler\u001b[49m, [stream1, stream2]))\n",
      "\u001b[0;31mNameError\u001b[0m: name 'new_thread_scheduler' is not defined"
     ]
    }
   ],
   "source": [
    "from reactivex import operators as ops\n",
    "reset_start_time(ops.merge)\n",
    "l = []\n",
    "def excepting_f(obs):\n",
    "    for i in range(10):\n",
    "        l.append(1)\n",
    "        obs.on_next(1 / (3 - len(l)))\n",
    "stream1 = reactivex.from_(('a', 'b', 'c'))\n",
    "stream2 = reactivex.create(excepting_f)\n",
    "# merged stream stops in any case at first exception!\n",
    "# No guarantee of order of those immediately created streams !\n",
    "d = subs(stream1.pipe(ops.merge(stream2)))\n",
    "l = []\n",
    "d = subs(ops.merge(new_thread_scheduler, [stream1, stream2]))"
   ]
  },
  {
   "cell_type": "code",
   "execution_count": 20,
   "metadata": {},
   "outputs": [
    {
     "name": "stdout",
     "output_type": "stream",
     "text": [
      "\n",
      "\n",
      "========== merge_all ==========\n",
      "\n",
      "module reactivex.operators\n",
      "def merge_all():\n",
      "    The merge_all operator.\n",
      "\n",
      "    Merges an observable sequence of observable sequences into an\n",
      "    observable sequence.\n",
      "\n",
      "    .. marble::\n",
      "        :alt: merge_all\n",
      "\n",
      "        ---1---2---3---4-|\n",
      "        -a---b---c---d--|\n",
      "        [   merge_all()    ]\n",
      "        -a-1-b-2-c-3-d-4-|\n",
      "\n",
      "    Returns:\n",
      "        A partially applied operator function that takes an observable\n",
      "        source and returns the observable sequence that merges the\n",
      "        elements of the inner sequences.\n",
      "--------------------------------------------------------------------------------\n",
      "\n",
      "   1.2     M New subscription (52102) on stream 302153710\n",
      "   1.5     M [err ]    0.3: 'int' object has no attribute 'subscribe' -> 52102\n",
      "\n",
      "   1.8     M New subscription (streams with time delays between events) on stream 302265579\n"
     ]
    },
    {
     "name": "stderr",
     "output_type": "stream",
     "text": [
      "Exception in thread Thread-5:\n",
      "Traceback (most recent call last):\n",
      "  File \"/nix/store/cgds5z15zf6y3pfyb63blvfb0ymz8pvp-python3-3.9.12/lib/python3.9/threading.py\", line 973, in _bootstrap_inner\n",
      "    self.run()\n",
      "  File \"/nix/store/cgds5z15zf6y3pfyb63blvfb0ymz8pvp-python3-3.9.12/lib/python3.9/threading.py\", line 1299, in run\n",
      "    self.function(*self.args, **self.kwargs)\n",
      "  File \"/Users/joel/Desktop/projects/RxPY/.en/lib/python3.9/site-packages/reactivex/scheduler/timeoutscheduler.py\", line 89, in interval\n",
      "    sad.disposable = self.invoke_action(action, state)\n",
      "  File \"/Users/joel/Desktop/projects/RxPY/.en/lib/python3.9/site-packages/reactivex/scheduler/scheduler.py\", line 105, in invoke_action\n",
      "    ret = action(self, state)\n",
      "  File \"/Users/joel/Desktop/projects/RxPY/.en/lib/python3.9/site-packages/reactivex/scheduler/periodicscheduler.py\", line 49, in periodic\n",
      "    state = action(state)\n",
      "  File \"/Users/joel/Desktop/projects/RxPY/.en/lib/python3.9/site-packages/reactivex/observable/timer.py\", line 105, in action\n",
      "    observer.on_next(count)\n",
      "  File \"/Users/joel/Desktop/projects/RxPY/.en/lib/python3.9/site-packages/reactivex/observer/autodetachobserver.py\", line 28, in on_next\n",
      "    self._on_next(value)\n",
      "  File \"/Users/joel/Desktop/projects/RxPY/.en/lib/python3.9/site-packages/reactivex/operators/_take.py\", line 40, in on_next\n",
      "    observer.on_next(value)\n",
      "  File \"/Users/joel/Desktop/projects/RxPY/.en/lib/python3.9/site-packages/reactivex/observer/autodetachobserver.py\", line 28, in on_next\n",
      "    self._on_next(value)\n",
      "  File \"/Users/joel/Desktop/projects/RxPY/.en/lib/python3.9/site-packages/reactivex/observer/autodetachobserver.py\", line 28, in on_next\n",
      "    self._on_next(value)\n",
      "  File \"/Users/joel/Desktop/projects/RxPY/.en/lib/python3.9/site-packages/reactivex/observer/autodetachobserver.py\", line 28, in on_next\n",
      "    self._on_next(value)\n",
      "  File \"/Users/joel/Desktop/projects/RxPY/.en/lib/python3.9/site-packages/reactivex/operators/_merge.py\", line 133, in on_next\n",
      "    subscription = inner_source.subscribe(\n",
      "AttributeError: 'int' object has no attribute 'subscribe'\n"
     ]
    }
   ],
   "source": [
    "rst(ops.merge_all, title='merge_all')\n",
    "meta = reactivex.from_((1, 2, 3)).pipe(ops.repeat(3))\n",
    "# no guarantee of order, immediatelly created:\n",
    "d = subs(meta.pipe(ops.merge_all()))\n",
    "# Introducing delta ts:\n",
    "d = subs(reactivex.timer(10, 10)\\\n",
    "                  .pipe(\n",
    "                  ops.take(3),\n",
    "                ops.repeat(3),\\\n",
    "                  ops.merge_all()),\n",
    "         name='streams with time delays between events')\n"
   ]
  },
  {
   "cell_type": "markdown",
   "metadata": {},
   "source": [
    "## ... and emitting all of the items from all of the Observables, one Observable at a time: **[concat](http://reactivex.io/documentation/operators/concat.html) **"
   ]
  },
  {
   "cell_type": "code",
   "execution_count": 29,
   "metadata": {},
   "outputs": [
    {
     "name": "stdout",
     "output_type": "stream",
     "text": [
      "\n",
      "\n",
      "========== concat ==========\n",
      "\n",
      "module reactivex.operators\n",
      "def concat(*sources: Observable[_T]):\n",
      "    Concatenates all the observable sequences.\n",
      "\n",
      "    .. marble::\n",
      "        :alt: concat\n",
      "\n",
      "        ---1--2--3--|\n",
      "        --6--8--|\n",
      "        [     concat()     ]\n",
      "        ---1--2--3----6--8-|\n",
      "\n",
      "    Examples:\n",
      "        >>> op = concat(xs, ys, zs)\n",
      "\n",
      "    Returns:\n",
      "        An operator function that takes one or more observable sources and\n",
      "        returns an observable sequence that contains the elements of\n",
      "        each given sequence, in sequential order.\n",
      "--------------------------------------------------------------------------------\n",
      "\n",
      "   1.6     M New subscription (38918) on stream 287399837\n",
      "   1.8     M [next]    0.2: 1 -> 38918\n",
      "   1.8     M [next]    0.2: 2 -> 38918\n",
      "   1.8     M [cmpl]    0.2: fin -> 38918\n",
      "\n",
      "   1.9     M New subscription (38912) on stream 287399741\n",
      "   2.0     M [next]    0.1: 3 -> 38912\n",
      "   2.0     M [next]    0.1: 4 -> 38912\n",
      "   2.0     M [cmpl]    0.1: fin -> 38912\n",
      "\n",
      "   2.1     M New subscription (35973) on stream 287236054\n",
      "   2.3     M [next]    0.1: 3 -> 35973\n",
      "   2.3     M [next]    0.2: 4 -> 35973\n",
      "   2.4     M [next]    0.3: 1 -> 35973\n",
      "   2.4     M [next]    0.3: 2 -> 35973\n",
      "   2.5     M [cmpl]    0.3: fin -> 35973\n"
     ]
    }
   ],
   "source": [
    "rst(ops.concat)\n",
    "s1 = reactivex.from_((1, 2))\n",
    "s2 = reactivex.from_((3, 4))\n",
    "# while normal subscriptions work as expected...\n",
    "d1, d2 = subs(s1), subs(s2)\n",
    "# ... another one can have the order reversed\n",
    "d = subs(s2.pipe(ops.concat(s1)))"
   ]
  },
  {
   "cell_type": "code",
   "execution_count": 32,
   "metadata": {},
   "outputs": [
    {
     "name": "stdout",
     "output_type": "stream",
     "text": [
      "\n",
      "\n",
      "========== True ==========\n",
      "\n"
     ]
    },
    {
     "ename": "AttributeError",
     "evalue": "module 'reactivex.operators' has no attribute 'to_blocking'",
     "output_type": "error",
     "traceback": [
      "\u001b[0;31m---------------------------------------------------------------------------\u001b[0m",
      "\u001b[0;31mAttributeError\u001b[0m                            Traceback (most recent call last)",
      "Input \u001b[0;32mIn [32]\u001b[0m, in \u001b[0;36m<cell line: 3>\u001b[0;34m()\u001b[0m\n\u001b[1;32m      1\u001b[0m rst()\n\u001b[1;32m      2\u001b[0m \u001b[38;5;66;03m# See the marbles notebook:\u001b[39;00m\n\u001b[0;32m----> 3\u001b[0m s1 \u001b[38;5;241m=\u001b[39m reactivex\u001b[38;5;241m.\u001b[39mfrom_marbles(\u001b[38;5;124m'\u001b[39m\u001b[38;5;124m1--2---3|\u001b[39m\u001b[38;5;124m'\u001b[39m)\u001b[38;5;241m.\u001b[39mpipe(\u001b[43mops\u001b[49m\u001b[38;5;241;43m.\u001b[39;49m\u001b[43mto_blocking\u001b[49m())\n\u001b[1;32m      4\u001b[0m s2 \u001b[38;5;241m=\u001b[39m reactivex\u001b[38;5;241m.\u001b[39mfrom_marbles(\u001b[38;5;124m'\u001b[39m\u001b[38;5;124m--a-b-c|\u001b[39m\u001b[38;5;124m'\u001b[39m )\u001b[38;5;241m.\u001b[39mto_blocking()\n\u001b[1;32m      5\u001b[0m d \u001b[38;5;241m=\u001b[39m (subs(s1, name\u001b[38;5;241m=\u001b[39m\u001b[38;5;124m'\u001b[39m\u001b[38;5;124mA\u001b[39m\u001b[38;5;124m'\u001b[39m),\n\u001b[1;32m      6\u001b[0m      subs(s2, name\u001b[38;5;241m=\u001b[39m\u001b[38;5;124m'\u001b[39m\u001b[38;5;124mB\u001b[39m\u001b[38;5;124m'\u001b[39m))\n",
      "\u001b[0;31mAttributeError\u001b[0m: module 'reactivex.operators' has no attribute 'to_blocking'"
     ]
    }
   ],
   "source": [
    "rst()\n",
    "# See the marbles notebook:\n",
    "s1 = reactivex.from_marbles('1--2---3|').to_blocking()\n",
    "s2 = reactivex.from_marbles('--a-b-c|' ).to_blocking()\n",
    "d = (subs(s1, name='A'),\n",
    "     subs(s2, name='B'))\n",
    "rst(title=\"Concatenating in reverse order\", sleep=1)\n",
    "d = subs(O.concat([s2, s1]), name='C')"
   ]
  },
  {
   "cell_type": "markdown",
   "metadata": {},
   "source": [
    "## ... by combining the items from two or more Observables sequentially to come up with new items to emit"
   ]
  },
  {
   "cell_type": "markdown",
   "metadata": {},
   "source": [
    "### ... whenever *each* of the Observables has emitted a new item **[zip / zip_list](http://reactivex.io/documentation/operators/zip.html)**"
   ]
  },
  {
   "cell_type": "code",
   "execution_count": 176,
   "metadata": {},
   "outputs": [
    {
     "name": "stdout",
     "output_type": "stream",
     "text": [
      "function zip of module rx.linq.observable.zip:\n",
      "Merges the specified observable sequences into one observable\n",
      "    sequence by using the mapper function whenever all of the observable\n",
      "    sequences have produced an element at a corresponding index.\n",
      "\n",
      "    The last element in the arguments must be a function to invoke for each\n",
      "    series of elements at corresponding indexes in the sources.\n",
      "\n",
      "    Arguments:\n",
      "    args -- Observable sources.\n",
      "\n",
      "    Returns an observable {Observable} sequence containing the result of\n",
      "    combining elements of the sources using the specified result mapper\n",
      "    function.\n",
      "    \n",
      "--------------------------------------------------------------------------------\n",
      "\n",
      "   0.8     M New subscription on stream 276463149\n",
      "   3.0     M [next]    2.2: 0 : 1 : 2\n",
      "   3.5     M [next]    2.6: 1 : 2 : 3\n",
      "   3.9     M [next]    3.0: 2 : 3 : 4\n",
      "   4.3     M [cmpl]    3.4: fin\n"
     ]
    }
   ],
   "source": [
    "rst(O.zip)\n",
    "s1 = O.range(0, 5)\n",
    "d = subs(O.zip(s1, s1.skip(1), s1.skip(2), lambda s1, s2, s3: '%s : %s : %s' % (s1, s2, s3)))"
   ]
  },
  {
   "cell_type": "code",
   "execution_count": 179,
   "metadata": {},
   "outputs": [
    {
     "name": "stdout",
     "output_type": "stream",
     "text": [
      "function zip_list of module rx.linq.observable.ziparray:\n",
      "Merge the specified observable sequences into one observable\n",
      "    sequence by emitting a list with the elements of the observable\n",
      "    sequences at corresponding indexes.\n",
      "\n",
      "    Keyword arguments:\n",
      "    :param Observable cls: Class\n",
      "    :param Tuple args: Observable sources.\n",
      "\n",
      "    :return: Returns an observable sequence containing lists of\n",
      "    elements at corresponding indexes.\n",
      "    :rtype: Observable\n",
      "    \n",
      "--------------------------------------------------------------------------------\n",
      "\n",
      "   0.9     M New subscription on stream 276480037\n",
      "   2.9     M [next]    1.8: [0, 1, 2]\n",
      "   3.3     M [next]    2.2: [1, 2, 3]\n",
      "   3.9     M [next]    2.8: [2, 3, 4]\n",
      "   4.4     M [cmpl]    3.3: fin\n"
     ]
    }
   ],
   "source": [
    "rst(O.zip_list) # alias: zip_array\n",
    "s1 = O.range(0, 5)\n",
    "d = subs(O.zip_list(s1, s1.skip(1), s1.skip(2)))"
   ]
  },
  {
   "cell_type": "markdown",
   "metadata": {},
   "source": [
    "### ... whenever *any* of the Observables has emitted a new item **[combine_latest](http://reactivex.io/documentation/operators/combinelatest.html)**"
   ]
  },
  {
   "cell_type": "code",
   "execution_count": 17,
   "metadata": {},
   "outputs": [
    {
     "name": "stdout",
     "output_type": "stream",
     "text": [
      "\n",
      "\n",
      "========== combine_latest ==========\n",
      "\n",
      "function combine_latest of module rx.linq.observable.combinelatest:\n",
      "Merges the specified observable sequences into one observable\n",
      "    sequence by using the mapper function whenever any of the\n",
      "    observable sequences produces an element.\n",
      "\n",
      "    1 - obs = Observable.combine_latest(obs1, obs2, obs3,\n",
      "                                       lambda o1, o2, o3: o1 + o2 + o3)\n",
      "    2 - obs = Observable.combine_latest([obs1, obs2, obs3],\n",
      "                                        lambda o1, o2, o3: o1 + o2 + o3)\n",
      "\n",
      "    Returns an observable sequence containing the result of combining\n",
      "    elements of the sources using the specified result mapper\n",
      "    function.\n",
      "    \n",
      "--------------------------------------------------------------------------------\n",
      "\n",
      "   1.0     M New subscription on stream 276805405\n",
      "   3.0     M main thread sleeping 1s\n",
      " 157.1  T195 [next]  156.1: First : 0, Second: 0\n",
      " 211.6  T196 [next]  210.6: First : 1, Second: 0\n",
      " 312.5  T197 [next]  311.6: First : 1, Second: 1\n",
      " 316.0  T198 [next]  315.0: First : 2, Second: 1\n",
      " 421.2  T200 [next]  420.2: First : 3, Second: 1\n",
      " 465.7  T199 [next]  464.7: First : 3, Second: 2\n",
      " 465.9  T199 [cmpl]  464.9: fin\n",
      "\n",
      "\n",
      "========== For comparison: merge ==========\n",
      "\n",
      "\n",
      "   1.0     M New subscription on stream 276157517\n",
      " 104.0  T204 [next]  103.0: First : 0\n",
      " 157.6  T203 [next]  156.5: Second: 0\n",
      " 207.3  T205 [next]  206.2: First : 1\n",
      " 311.4  T207 [next]  310.4: First : 2 311.7  T206 [next]  310.7: Second: 1\n",
      "\n",
      " 417.5  T208 [next]  416.5: First : 3\n",
      " 417.8  T208 [cmpl]  416.7: fin\n"
     ]
    }
   ],
   "source": [
    "rst(O.combine_latest, title='combine_latest')\n",
    "s1 = O.interval(100).map(lambda i: 'First : %s' % i)\n",
    "s2 = O.interval(150).map(lambda i: 'Second: %s' % i)\n",
    "# the start is interesting, both must have emitted, so it starts at 150ms with 0/0:\n",
    "d = subs(s1.combine_latest(s2, lambda s1, s2: '%s, %s' % (s1, s2)).take(6))\n",
    "\n",
    "rst(title='For comparison: merge', sleep=1)\n",
    "d = subs(s1.merge(s2).take(6))\n"
   ]
  },
  {
   "cell_type": "markdown",
   "metadata": {},
   "source": [
    "### ... whenever *the first* of the Observables has emitted a new item **[with_latest_from](http://reactivex.io/documentation/operators/combinelatest.html)**"
   ]
  },
  {
   "cell_type": "code",
   "execution_count": 16,
   "metadata": {},
   "outputs": [
    {
     "name": "stdout",
     "output_type": "stream",
     "text": [
      "\n",
      "\n",
      "========== with_latest_from ==========\n",
      "\n",
      "function with_latest_from of module rx.linq.observable.withlatestfrom:\n",
      "Merges the specified observable sequences into one observable sequence\n",
      "    by using the mapper function only when the first observable sequence\n",
      "    produces an element. The observables can be passed either as seperate\n",
      "    arguments or as a list.\n",
      "\n",
      "    1 - obs = Observable.with_latest_from(obs1, obs2, obs3,\n",
      "                                       lambda o1, o2, o3: o1 + o2 + o3)\n",
      "    2 - obs = Observable.with_latest_from([obs1, obs2, obs3],\n",
      "                                        lambda o1, o2, o3: o1 + o2 + o3)\n",
      "\n",
      "    Returns an observable sequence containing the result of combining\n",
      "    elements of the sources using the specified result mapper function.\n",
      "    \n",
      "--------------------------------------------------------------------------------\n",
      "\n",
      "   1.0     M New subscription on stream 276799777\n",
      " 147.0  T170 [next]  146.0: First : 0, Second: 1\n",
      " 292.0  T174 [next]  290.9: First : 1, Second: 4\n",
      " 437.8  T178 [next]  436.7: First : 2, Second: 7\n",
      " 581.7  T182 [next]  580.7: First : 3, Second: 9\n",
      " 723.3  T185 [next]  722.2: First : 4, Second: 12\n",
      " 867.0  T189 [next]  865.9: First : 5, Second: 15\n",
      " 867.4  T189 [cmpl]  866.3: fin\n"
     ]
    }
   ],
   "source": [
    "rst(O.with_latest_from, title='with_latest_from')\n",
    "s1 = O.interval(140).map(lambda i: 'First : %s' % i)\n",
    "s2 = O.interval(50) .map(lambda i: 'Second: %s' % i)\n",
    "d = subs(s1.with_latest_from(s2, lambda s1, s2: '%s, %s' % (s1, s2)).take(6))\n"
   ]
  },
  {
   "cell_type": "markdown",
   "metadata": {},
   "source": [
    "### ... whenever an item is emitted by one Observable in a window defined by an item emitted by another **[join](http://reactivex.io/documentation/operators/join.html)**\n",
    "The join operator takes four parameters:\n",
    "\n",
    "1. the second Observable to combine with the source Observable\n",
    "1. a function that accepts an item from the source Observable and returns an Observable whose lifespan governs the duration during which that item will combine with items from the second Observable\n",
    "1. a function that accepts an item from the second Observable and returns an Observable whose lifespan governs the duration during which that item will combine with items from the first Observable\n",
    "1. a function that accepts an item from the first Observable and an item from the second Observable and returns an item to be emitted by the Observable returned from join\n"
   ]
  },
  {
   "cell_type": "code",
   "execution_count": 23,
   "metadata": {},
   "outputs": [
    {
     "name": "stdout",
     "output_type": "stream",
     "text": [
      "function join of module rx.linq.observable.join:\n",
      "Correlates the elements of two sequences based on overlapping\n",
      "    durations.\n",
      "\n",
      "    Keyword arguments:\n",
      "    right -- The right observable sequence to join elements for.\n",
      "    left_duration_mapper -- A function to select the duration (expressed\n",
      "        as an observable sequence) of each element of the left observable\n",
      "        sequence, used to determine overlap.\n",
      "    right_duration_mapper -- A function to select the duration (expressed\n",
      "        as an observable sequence) of each element of the right observable\n",
      "        sequence, used to determine overlap.\n",
      "    result_mapper -- A function invoked to compute a result element for\n",
      "        any two overlapping elements of the left and right observable\n",
      "        sequences. The parameters passed to the function correspond with\n",
      "        the elements from the left and right source sequences for which\n",
      "        overlap occurs.\n",
      "\n",
      "    Return an observable sequence that contains result elements computed\n",
      "    from source elements that have an overlapping duration.\n",
      "    \n",
      "--------------------------------------------------------------------------------\n",
      "\n",
      "   1.2     M New subscription on stream 275960897\n",
      " 109.1  T449 [next]  107.8: First : 0 Second: 0\n",
      " 215.3  T453 [next]  214.0: First : 1 Second: 1\n",
      " 321.6  T457 [next]  320.4: First : 2 Second: 2\n",
      " 426.0  T461 [next]  424.8: First : 3 Second: 3\n",
      " 533.3  T465 [next]  532.1: First : 4 Second: 4\n",
      " 533.7  T465 [cmpl]  532.4: fin\n"
     ]
    }
   ],
   "source": [
    "rst(O.join)\n",
    "# this one is pretty timing critical and output seems swallowed with 2 threads (over)writing.\n",
    "# better try this with timer(0) on the console. Also the scheduler of the timers is critical,\n",
    "# try other O.timer schedulers...\n",
    "xs = O.interval(100).map(lambda i: 'First : %s' % i)\n",
    "ys = O.interval(101).map(lambda i: 'Second: %s' % i)\n",
    "d = subs(xs.join(ys, lambda _: O.timer(10), lambda _: O.timer(0), lambda x, y: '%s %s' % (x, y)).take(5))"
   ]
  },
  {
   "cell_type": "markdown",
   "metadata": {},
   "source": [
    "### ... or, alternatively, **[group_join](http://reactivex.io/documentation/operators/join.html)**\n",
    "\n",
    "The groupJoin operator takes four parameters:\n",
    "\n",
    "1. the second Observable to combine with the source Observable\n",
    "1. a function that accepts an item from the source Observable and returns an Observable whose lifespan governs the duration during which that item will combine with items from the second Observable\n",
    "1. a function that accepts an item from the second Observable and returns an Observable whose lifespan governs the duration during which that item will combine with items from the first Observable\n",
    "1. a function that accepts an item from the first Observable and an Observable that emits items from the second Observable and returns an item to be emitted by the Observable returned from groupJoin\n"
   ]
  },
  {
   "cell_type": "code",
   "execution_count": 27,
   "metadata": {},
   "outputs": [
    {
     "name": "stdout",
     "output_type": "stream",
     "text": [
      "\n",
      "\n",
      "========== group_join ==========\n",
      "\n",
      "function group_join of module rx.linq.observable.groupjoin:\n",
      "Correlates the elements of two sequences based on overlapping\n",
      "    durations, and groups the results.\n",
      "\n",
      "    Keyword arguments:\n",
      "    right -- The right observable sequence to join elements for.\n",
      "    left_duration_mapper -- A function to select the duration (expressed\n",
      "        as an observable sequence) of each element of the left observable\n",
      "        sequence, used to determine overlap.\n",
      "    right_duration_mapper -- A function to select the duration (expressed\n",
      "        as an observable sequence) of each element of the right observable\n",
      "        sequence, used to determine overlap.\n",
      "    result_mapper -- A function invoked to compute a result element for\n",
      "        any element of the left sequence with overlapping elements from the\n",
      "        right observable sequence. The first parameter passed to the\n",
      "        function is an element of the left sequence. The second parameter\n",
      "        passed to the function is an observable sequence with elements from\n",
      "        the right sequence that overlap with the left sequence's element.\n",
      "\n",
      "    Returns an observable sequence that contains result elements computed\n",
      "    from source elements that have an overlapping duration.\n",
      "    \n",
      "--------------------------------------------------------------------------------\n",
      "\n",
      "   1.3     M New subscription on stream 273932389\n",
      " 534.5  T500 [next]  533.0: First : 4 Second: 4\n",
      " 536.0  T501 [next]  534.5: First : 4 Second: 4\n",
      " 640.2  T504 [next]  638.8: First : 5 Second: 5\n",
      "18690.9 T1191 [next] 18689.5: First : 176 Second: 177\n",
      "19010.8 T1202 [next] 19009.4: First : 179 Second: 180\n",
      "19011.9 T1202 [cmpl] 19010.5: fin\n"
     ]
    }
   ],
   "source": [
    "rst(O.group_join, title='group_join')\n",
    "xs = O.interval(100).map(lambda i: 'First : %s' % i)\n",
    "ys = O.interval(100).map(lambda i: 'Second: %s' % i)\n",
    "d = subs(xs.group_join(ys,\n",
    "                       lambda _: O.timer(0),\n",
    "                       lambda _: O.timer(0),\n",
    "                       lambda x, yy: yy.select(lambda y: '%s %s' % (x, y))).merge_all().take(5))"
   ]
  },
  {
   "cell_type": "markdown",
   "metadata": {},
   "source": [
    "### ... by means of Pattern and Plan intermediaries And/Then/When, **[and / then / when](http://reactivex.io/documentation/operators/and-then-when.html)**\n",
    "The combination of the And, Then, and When operators behave much like the Zip operator, but they do so by means of intermediate data structures. And accepts two or more Observables and combines the emissions from each, one set at a time, into Pattern objects. Then operates on such Pattern objects, transforming them in a Plan. When in turn transforms these various Plan objects into emissions from an Observable.\n",
    "\n",
    "[details](http://www.introtorx.com/content/v1.0.10621.0/12_CombiningSequences.html#AndThenWhen) \n",
    "The And/Then/When trio has more overloads that enable you to group an even greater number of sequences. They also allow you to provide more than one 'plan' (the output of the Then method). This gives you the Merge feature but on the collection of 'plans'. I would suggest playing around with them if this functionality is of interest to you. The verbosity of enumerating all of the combinations of these methods would be of low value. You will get far more value out of using them and discovering for yourself.\n",
    "\n",
    "As we delve deeper into the depths of what the Rx libraries provide us, we can see more practical usages for it. Composing sequences with Rx allows us to easily make sense of the multiple data sources a problem domain is exposed to. We can concatenate values or sequences together sequentially with StartWith, Concat and Repeat. We can process multiple sequences concurrently with Merge, or process a single sequence at a time with Amb and Switch. Pairing values with CombineLatest, Zip and the And/Then/When operators can simplify otherwise fiddly operations like our drag-and-drop examples and monitoring system status.\n",
    "\n",
    "\n"
   ]
  },
  {
   "cell_type": "code",
   "execution_count": 59,
   "metadata": {},
   "outputs": [
    {
     "name": "stdout",
     "output_type": "stream",
     "text": [
      "\n",
      "   1.1     M New subscription on stream 275998165\n",
      "1002.9 T1468 [next] 1001.8: \n",
      "\n",
      "Seconds : 0 from time: 1.00\n",
      "HalfSecs: 0 from time: 0.50\n",
      "10thS   : 0 from time: 0.11\n",
      "2008.3 T1477 [next] 2007.2: \n",
      "\n",
      "Seconds : 1 from time: 2.01\n",
      "HalfSecs: 1 from time: 1.01\n",
      "10thS   : 1 from time: 0.21\n",
      "3011.7 T1480 [next] 3010.6: \n",
      "\n",
      "Seconds : 2 from time: 3.01\n",
      "HalfSecs: 2 from time: 1.51\n",
      "10thS   : 2 from time: 0.32\n",
      "4014.4 T1483 [next] 4013.3: \n",
      "\n",
      "Seconds : 3 from time: 4.01\n",
      "HalfSecs: 3 from time: 2.01\n",
      "10thS   : 3 from time: 0.42\n",
      "5018.9 T1484 [next] 5017.8: \n",
      "\n",
      "Seconds : 4 from time: 5.02\n",
      "HalfSecs: 4 from time: 2.52\n",
      "10thS   : 4 from time: 0.52\n",
      "5019.9 T1484 [cmpl] 5018.8: fin\n"
     ]
    }
   ],
   "source": [
    "rst()\n",
    "# see the similarity to zip. \n",
    "ts = time.time()\n",
    "def _dt():\n",
    "    # giving us info when an element was created:\n",
    "    return 'from time: %.2f' % (time.time() - ts)\n",
    "one = O.interval(1000) .map(lambda i: 'Seconds : %s %s' % (i, _dt())).take(5)\n",
    "two = O.interval(500)  .map(lambda i: 'HalfSecs: %s %s' % (i, _dt())).take(5)\n",
    "three = O.interval(100).map(lambda i: '10thS   : %s %s' % (i, _dt())).take(5)\n",
    "\n",
    "z = O.when(\n",
    "   one          \\\n",
    "    .and_(two)  \\\n",
    "    .and_(three)\\\n",
    "    .then_do(lambda a, b, c: '\\n'.join(('', '', a, b, c))))\n",
    "\n",
    "# from the output you see that the result stream consists of elements built at each interval\n",
    "# (which is in the past for 'two' and 'three'),\n",
    "# buffered until the 1 second sequence 'one' advances a step. \n",
    "d = subs(z)\n"
   ]
  },
  {
   "cell_type": "markdown",
   "metadata": {},
   "source": [
    "## ... and emitting the items from only the most-recently emitted of those Observables **[switch_latest](http://reactivex.io/documentation/operators/and-then-when.html)**"
   ]
  },
  {
   "cell_type": "code",
   "execution_count": 71,
   "metadata": {},
   "outputs": [
    {
     "name": "stdout",
     "output_type": "stream",
     "text": [
      "function switch_latest of module rx.linq.observable.switchlatest:\n",
      "Transforms an observable sequence of observable sequences into an\n",
      "    observable sequence producing values only from the most recent\n",
      "    observable sequence.\n",
      "\n",
      "    :returns: The observable sequence that at any point in time produces the\n",
      "    elements of the most recent inner observable sequence that has been\n",
      "    received.\n",
      "    :rtype: Observable\n",
      "    \n",
      "--------------------------------------------------------------------------------\n",
      "\n",
      "   0.9     M New subscription on stream 275998049\n",
      "   1.8     M [next]    0.8: 0 (from stream nr 0)\n",
      "   2.9     M [next]    1.9: 1 (from stream nr 1)\n",
      "   3.5     M [next]    2.5: 2 (from stream nr 2)\n",
      "   3.9     M [next]    2.9: 3 (from stream nr 2)\n",
      "   4.0     M [next]    3.0: 4 (from stream nr 2)\n",
      "   4.2     M [cmpl]    3.2: fin\n"
     ]
    }
   ],
   "source": [
    "rst(O.switch_latest)\n",
    "s = O.range(0, 3).select(lambda x: O.range(x, 3)\\\n",
    "                                  # showing from which stream our current value comes:\n",
    "                                  .map(lambda v: '%s (from stream nr %s)' % (v, x)))\\\n",
    "                 .switch_latest()\n",
    "d = subs(s)"
   ]
  },
  {
   "cell_type": "code",
   "execution_count": null,
   "metadata": {
    "collapsed": true
   },
   "outputs": [],
   "source": []
  }
 ],
 "metadata": {
  "kernelspec": {
   "display_name": "Python 3 (ipykernel)",
   "language": "python",
   "name": "python3"
  },
  "language_info": {
   "codemirror_mode": {
    "name": "ipython",
    "version": 3
   },
   "file_extension": ".py",
   "mimetype": "text/x-python",
   "name": "python",
   "nbconvert_exporter": "python",
   "pygments_lexer": "ipython3",
   "version": "3.9.12"
  }
 },
 "nbformat": 4,
 "nbformat_minor": 1
}
